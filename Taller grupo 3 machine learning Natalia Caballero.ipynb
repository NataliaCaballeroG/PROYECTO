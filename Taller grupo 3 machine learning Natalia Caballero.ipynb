{
  "nbformat": 4,
  "nbformat_minor": 0,
  "metadata": {
    "colab": {
      "provenance": []
    },
    "kernelspec": {
      "name": "python3",
      "display_name": "Python 3"
    },
    "language_info": {
      "name": "python"
    }
  },
  "cells": [
    {
      "cell_type": "markdown",
      "source": [
        "#Taller en clase I\n",
        "\n",
        "cree una función que sume dos números y divida la suma en un tercero.\n",
        "\n",
        "- Asegurese de que los numeros sean enteros.\n",
        "- Evite la división entre tercero."
      ],
      "metadata": {
        "id": "58QrZXb2v-kJ"
      }
    },
    {
      "cell_type": "code",
      "source": [
        "def suma_de_enteros (a: int, b: int, c:int):\n",
        "\n",
        "  if type(a) == int and type(b) == int and type(c) == int:\n",
        "    suma = a + b\n",
        "    if c!= 0:\n",
        "        print(suma/c)\n",
        "    else:\n",
        "        print(\"c debe ser un valor diferente de 0\")\n",
        "  else:\n",
        "        print(\"todos los datos ingresados deben ser enteros.\")\n",
        "\n"
      ],
      "metadata": {
        "id": "uSjxABgHwZKt"
      },
      "execution_count": 41,
      "outputs": []
    },
    {
      "cell_type": "code",
      "source": [
        "suma_de_enteros(8,8,5)"
      ],
      "metadata": {
        "colab": {
          "base_uri": "https://localhost:8080/"
        },
        "id": "-Hv-tJJw5A6F",
        "outputId": "6de288c0-2aff-4614-da86-29d9d1c419cc"
      },
      "execution_count": 44,
      "outputs": [
        {
          "output_type": "stream",
          "name": "stdout",
          "text": [
            "3.2\n"
          ]
        }
      ]
    },
    {
      "cell_type": "code",
      "source": [],
      "metadata": {
        "id": "7FK2qJ8F5YaK"
      },
      "execution_count": null,
      "outputs": []
    }
  ]
}